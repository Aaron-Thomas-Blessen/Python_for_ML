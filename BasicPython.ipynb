{
 "cells": [
  {
   "cell_type": "markdown",
   "id": "0aa395b5-5b66-4854-a2f4-47596ceda0ac",
   "metadata": {},
   "source": [
    "# BASICS OF `PYTHON` PROGRAMMING\n",
    "\n",
    "In this notebook we will explain basic `python` for machine learning."
   ]
  },
  {
   "cell_type": "markdown",
   "id": "fef214f4-df25-4c33-b675-d4b365252c0e",
   "metadata": {
    "tags": []
   },
   "source": [
    "## Derived data types in `Python`."
   ]
  },
  {
   "cell_type": "markdown",
   "id": "7a02e9a0-3989-488f-8da0-d927b60c142e",
   "metadata": {},
   "source": [
    ">**Note:** In `python` `int`, `float`, `str` etc are atomic data types and no declaration is required."
   ]
  },
  {
   "cell_type": "markdown",
   "id": "b3b17f3d-a5ea-4bac-b4bc-954546be6c31",
   "metadata": {},
   "source": [
    "# 1. LIST"
   ]
  },
  {
   "cell_type": "code",
   "execution_count": 2,
   "id": "e9f3c8ba-eab6-4cb8-a9e8-b3a38c09122c",
   "metadata": {},
   "outputs": [],
   "source": [
    "my_list=[1,2,3]"
   ]
  },
  {
   "cell_type": "code",
   "execution_count": 3,
   "id": "65611c72-820a-4205-92b4-4d64755826d1",
   "metadata": {},
   "outputs": [
    {
     "data": {
      "text/plain": [
       "[1, 2, 3]"
      ]
     },
     "execution_count": 3,
     "metadata": {},
     "output_type": "execute_result"
    }
   ],
   "source": [
    "my_list"
   ]
  },
  {
   "cell_type": "code",
   "execution_count": 4,
   "id": "d151e006-284b-46e4-a377-657cd1a3a28f",
   "metadata": {},
   "outputs": [
    {
     "data": {
      "text/plain": [
       "[1, 'a', 2]"
      ]
     },
     "execution_count": 4,
     "metadata": {},
     "output_type": "execute_result"
    }
   ],
   "source": [
    "my_list=[1,'a',2]\n",
    "my_list"
   ]
  },
  {
   "cell_type": "code",
   "execution_count": 5,
   "id": "80c36064-fc45-49a9-b2ad-d0ec61192ecf",
   "metadata": {},
   "outputs": [
    {
     "data": {
      "text/plain": [
       "1"
      ]
     },
     "execution_count": 5,
     "metadata": {},
     "output_type": "execute_result"
    }
   ],
   "source": [
    "my_list[0]"
   ]
  },
  {
   "cell_type": "code",
   "execution_count": 6,
   "id": "c15b4159-4f34-4e0b-a9ec-b1a60aa17201",
   "metadata": {},
   "outputs": [],
   "source": [
    "my_list=[1,2,[100,200]]"
   ]
  },
  {
   "cell_type": "code",
   "execution_count": 7,
   "id": "a0699fa4-5149-4936-a1e8-c02ae4ae5184",
   "metadata": {},
   "outputs": [
    {
     "data": {
      "text/plain": [
       "200"
      ]
     },
     "execution_count": 7,
     "metadata": {},
     "output_type": "execute_result"
    }
   ],
   "source": [
    "my_list[2][1]"
   ]
  },
  {
   "cell_type": "code",
   "execution_count": 9,
   "id": "d1ab5292-3e6c-4b23-975b-2e02696250b1",
   "metadata": {},
   "outputs": [
    {
     "data": {
      "text/plain": [
       "[1]"
      ]
     },
     "execution_count": 9,
     "metadata": {},
     "output_type": "execute_result"
    }
   ],
   "source": [
    "my_list=[1,'a',2]\n",
    "my_list[:1]"
   ]
  },
  {
   "cell_type": "code",
   "execution_count": 11,
   "id": "34939934-26da-4cc5-b2b8-0b4e37f548d2",
   "metadata": {},
   "outputs": [
    {
     "data": {
      "text/plain": [
       "[2, 'a', 2]"
      ]
     },
     "execution_count": 11,
     "metadata": {},
     "output_type": "execute_result"
    }
   ],
   "source": [
    "my_list[0]=2\n",
    "my_list"
   ]
  },
  {
   "cell_type": "code",
   "execution_count": 13,
   "id": "de76f5df-905b-4ded-a61c-659160302c44",
   "metadata": {},
   "outputs": [
    {
     "data": {
      "text/plain": [
       "[2, 'a', 2, 0, 0]"
      ]
     },
     "execution_count": 13,
     "metadata": {},
     "output_type": "execute_result"
    }
   ],
   "source": [
    "my_list.append(0)\n",
    "my_list"
   ]
  },
  {
   "cell_type": "markdown",
   "id": "8b39f9aa-d504-453c-a4d3-d9aa47729cf3",
   "metadata": {},
   "source": [
    "# 2. TUPLE"
   ]
  },
  {
   "cell_type": "code",
   "execution_count": 15,
   "id": "70397946-a71c-42e5-90ac-f9601ecfa731",
   "metadata": {},
   "outputs": [
    {
     "data": {
      "text/plain": [
       "(1, 2, 3)"
      ]
     },
     "execution_count": 15,
     "metadata": {},
     "output_type": "execute_result"
    }
   ],
   "source": [
    "t=(1,2,3)\n",
    "t"
   ]
  },
  {
   "cell_type": "markdown",
   "id": "957c0b7a-be13-4c91-8f60-097b5b9cab46",
   "metadata": {},
   "source": [
    "# 3. DICTIONARY"
   ]
  },
  {
   "cell_type": "code",
   "execution_count": 16,
   "id": "0d0d9baa-91c5-46b7-8b63-3ca3cec4f0a3",
   "metadata": {},
   "outputs": [
    {
     "data": {
      "text/plain": [
       "{'name': 'Aaron', 'age': 20}"
      ]
     },
     "execution_count": 16,
     "metadata": {},
     "output_type": "execute_result"
    }
   ],
   "source": [
    "d={'name':'Aaron','age':20}\n",
    "d"
   ]
  },
  {
   "cell_type": "code",
   "execution_count": 18,
   "id": "507d6124-d7df-425e-8c9b-1527aa112cb0",
   "metadata": {},
   "outputs": [
    {
     "data": {
      "text/plain": [
       "'Aaron'"
      ]
     },
     "execution_count": 18,
     "metadata": {},
     "output_type": "execute_result"
    }
   ],
   "source": [
    "d['name']"
   ]
  },
  {
   "cell_type": "code",
   "execution_count": 19,
   "id": "454b7bb0-8ab1-4880-8d93-b0dfb71f412c",
   "metadata": {},
   "outputs": [
    {
     "data": {
      "text/plain": [
       "dict"
      ]
     },
     "execution_count": 19,
     "metadata": {},
     "output_type": "execute_result"
    }
   ],
   "source": [
    "type(d)"
   ]
  },
  {
   "cell_type": "markdown",
   "id": "38a7752b-3cce-4595-ac0c-b514d1266c6e",
   "metadata": {},
   "source": [
    "# 4. SET"
   ]
  },
  {
   "cell_type": "code",
   "execution_count": 20,
   "id": "59f1fde5-d967-4f31-a308-fddfce5db8ff",
   "metadata": {},
   "outputs": [
    {
     "data": {
      "text/plain": [
       "set"
      ]
     },
     "execution_count": 20,
     "metadata": {},
     "output_type": "execute_result"
    }
   ],
   "source": [
    "type({1,2,3})"
   ]
  },
  {
   "cell_type": "code",
   "execution_count": 23,
   "id": "12006b48-58e3-486a-ba3b-431307b83a33",
   "metadata": {},
   "outputs": [
    {
     "data": {
      "text/plain": [
       "{1, 2, 3, 4}"
      ]
     },
     "execution_count": 23,
     "metadata": {},
     "output_type": "execute_result"
    }
   ],
   "source": [
    "{1,2,3,1,1,1,2,2,2,4,3,4}"
   ]
  },
  {
   "cell_type": "markdown",
   "id": "b434a9de-9417-4b69-9a33-b246536f5abe",
   "metadata": {},
   "source": [
    "# 5. FUNCTION"
   ]
  },
  {
   "cell_type": "code",
   "execution_count": 24,
   "id": "7bbbeb5e-3e43-4aa1-a1e1-8506f7d74b66",
   "metadata": {},
   "outputs": [],
   "source": [
    "def function_name(variable):\n",
    "    return variable*2"
   ]
  },
  {
   "cell_type": "code",
   "execution_count": 25,
   "id": "9aac18dc-263a-4c6f-bfa0-5b52f57c222d",
   "metadata": {},
   "outputs": [
    {
     "data": {
      "text/plain": [
       "10"
      ]
     },
     "execution_count": 25,
     "metadata": {},
     "output_type": "execute_result"
    }
   ],
   "source": [
    "function_name(5)"
   ]
  },
  {
   "cell_type": "markdown",
   "id": "53b5d1c6-92bc-4b52-aff1-9b0f1a0c444e",
   "metadata": {},
   "source": [
    ">###  LAMBDA FUNCTION\n",
    "arguments expression"
   ]
  },
  {
   "cell_type": "code",
   "execution_count": 26,
   "id": "6d08da82-6f9b-47f3-bfa2-ff7c7aed8194",
   "metadata": {},
   "outputs": [
    {
     "name": "stdout",
     "output_type": "stream",
     "text": [
      "25\n"
     ]
    }
   ],
   "source": [
    "function=lambda var:var*5\n",
    "print(function(5))"
   ]
  },
  {
   "cell_type": "code",
   "execution_count": 28,
   "id": "97fe6fff-7825-432c-8914-6e87951ab2dd",
   "metadata": {},
   "outputs": [
    {
     "data": {
      "text/plain": [
       "[1, 4, 9]"
      ]
     },
     "execution_count": 28,
     "metadata": {},
     "output_type": "execute_result"
    }
   ],
   "source": [
    "x=[1,2,3]\n",
    "out=[]\n",
    "for i in x:\n",
    "    out.append(i**2)\n",
    "out"
   ]
  },
  {
   "cell_type": "markdown",
   "id": "d8b39236-be92-48d9-9071-5e743ece37fa",
   "metadata": {},
   "source": [
    ">### LIST COMPREHENSION"
   ]
  },
  {
   "cell_type": "code",
   "execution_count": 29,
   "id": "7ee548a6-d64e-4ee0-b560-8042c6a19e04",
   "metadata": {},
   "outputs": [
    {
     "data": {
      "text/plain": [
       "[1, 4, 9]"
      ]
     },
     "execution_count": 29,
     "metadata": {},
     "output_type": "execute_result"
    }
   ],
   "source": [
    "[item**2 for item in x]"
   ]
  },
  {
   "cell_type": "markdown",
   "id": "02cb2d38-d3b3-4597-af42-fde926d46734",
   "metadata": {},
   "source": [
    "# 6. Format"
   ]
  },
  {
   "cell_type": "code",
   "execution_count": 30,
   "id": "1d784e64-014e-4a88-aceb-f0e767cde31e",
   "metadata": {},
   "outputs": [
    {
     "name": "stdout",
     "output_type": "stream",
     "text": [
      "my name is:Aaron and number is:10\n"
     ]
    }
   ],
   "source": [
    "print(\"my name is:{0} and number is:{1}\".format(\"Aaron\",10))"
   ]
  },
  {
   "cell_type": "code",
   "execution_count": 32,
   "id": "03fd56ac-0a18-40d1-8aef-77532e571d72",
   "metadata": {},
   "outputs": [
    {
     "name": "stdout",
     "output_type": "stream",
     "text": [
      "my name is:Aaron and number is:10\n"
     ]
    }
   ],
   "source": [
    "print(\"my name is:{on} and number is:{tw}\".format(on=\"Aaron\",tw=10))"
   ]
  },
  {
   "cell_type": "code",
   "execution_count": 33,
   "id": "6a03b2ef-bb29-478c-9e02-4afb1de7efa5",
   "metadata": {},
   "outputs": [
    {
     "name": "stdout",
     "output_type": "stream",
     "text": [
      "my name is:Aaron and number is:10\n"
     ]
    }
   ],
   "source": [
    "print(\"my name is:{} and number is:{}\".format(\"Aaron\",10))"
   ]
  },
  {
   "cell_type": "code",
   "execution_count": 35,
   "id": "45d35c6d-62a3-4333-8980-8c30dcae5a1f",
   "metadata": {},
   "outputs": [
    {
     "name": "stdout",
     "output_type": "stream",
     "text": [
      "my name is:aaron and number is:allen\n",
      "my name is:akshay and number is:anandhu\n"
     ]
    }
   ],
   "source": [
    "x=[\"aaron\",\"allen\",\"akshay\",\"anandhu\"]\n",
    "for i in range(0,3,2):\n",
    "    print(\"my name is:{0} and number is:{1}\".format(x[i],x[i+1]))"
   ]
  },
  {
   "cell_type": "code",
   "execution_count": null,
   "id": "7b45904e-bdc2-4e46-9a45-fc44c1fe4fb1",
   "metadata": {},
   "outputs": [],
   "source": []
  }
 ],
 "metadata": {
  "kernelspec": {
   "display_name": "Python 3 (Intel® oneAPI 2023.2)",
   "language": "python",
   "name": "c009-intel_distribution_of_python_3_oneapi-beta05-python"
  },
  "language_info": {
   "codemirror_mode": {
    "name": "ipython",
    "version": 3
   },
   "file_extension": ".py",
   "mimetype": "text/x-python",
   "name": "python",
   "nbconvert_exporter": "python",
   "pygments_lexer": "ipython3",
   "version": "3.9.16"
  }
 },
 "nbformat": 4,
 "nbformat_minor": 5
}
